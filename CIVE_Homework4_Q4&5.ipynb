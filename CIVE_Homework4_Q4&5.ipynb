{
  "nbformat": 4,
  "nbformat_minor": 0,
  "metadata": {
    "colab": {
      "name": "CIVE_Homework4_Q4&5",
      "provenance": [],
      "collapsed_sections": []
    },
    "kernelspec": {
      "name": "python3",
      "display_name": "Python 3"
    },
    "language_info": {
      "name": "python"
    }
  },
  "cells": [
    {
      "cell_type": "markdown",
      "source": [
        "#Question 4-\n",
        "You are provided with daily annual rainfall in Boston for 65 years (1950-2014). Calculate \n",
        "monthly mean of the dataset. Use 50 years of data for training (using ARIMA process) and \n",
        "predict the Precipitation of Boston for the last 15 years. Report performance measure (MSE).  \n",
        "Try box-cox transformation where 𝜆=2 and predict again. Retransform the dataset to initial \n",
        "form of the time series and find out the performance measure (MSE). "
      ],
      "metadata": {
        "id": "SgUGxxdhxm6Q"
      }
    },
    {
      "cell_type": "code",
      "source": [
        "import pandas as pd\n",
        "import numpy as np\n",
        "import matplotlib.pyplot as plt\n",
        "\n",
        "ts = pd.read_csv('/content/data_Precipitation.csv', index_col = 'Date', usecols=['Date','Precipitation'], parse_dates = True)\n",
        "ts.head()"
      ],
      "metadata": {
        "id": "2lbDt1agG1Zq",
        "colab": {
          "base_uri": "https://localhost:8080/",
          "height": 237
        },
        "outputId": "bd840bb2-daae-4dca-9997-0695092cb21f"
      },
      "execution_count": 1,
      "outputs": [
        {
          "output_type": "execute_result",
          "data": {
            "text/plain": [
              "            Precipitation\n",
              "Date                     \n",
              "1950-01-01       0.005900\n",
              "1950-01-02       0.057000\n",
              "1950-01-03       4.413605\n",
              "1950-01-04      27.583983\n",
              "1950-01-05       1.988475"
            ],
            "text/html": [
              "\n",
              "  <div id=\"df-dcdce5f7-bbcf-40d0-9789-7e9c17bdb553\">\n",
              "    <div class=\"colab-df-container\">\n",
              "      <div>\n",
              "<style scoped>\n",
              "    .dataframe tbody tr th:only-of-type {\n",
              "        vertical-align: middle;\n",
              "    }\n",
              "\n",
              "    .dataframe tbody tr th {\n",
              "        vertical-align: top;\n",
              "    }\n",
              "\n",
              "    .dataframe thead th {\n",
              "        text-align: right;\n",
              "    }\n",
              "</style>\n",
              "<table border=\"1\" class=\"dataframe\">\n",
              "  <thead>\n",
              "    <tr style=\"text-align: right;\">\n",
              "      <th></th>\n",
              "      <th>Precipitation</th>\n",
              "    </tr>\n",
              "    <tr>\n",
              "      <th>Date</th>\n",
              "      <th></th>\n",
              "    </tr>\n",
              "  </thead>\n",
              "  <tbody>\n",
              "    <tr>\n",
              "      <th>1950-01-01</th>\n",
              "      <td>0.005900</td>\n",
              "    </tr>\n",
              "    <tr>\n",
              "      <th>1950-01-02</th>\n",
              "      <td>0.057000</td>\n",
              "    </tr>\n",
              "    <tr>\n",
              "      <th>1950-01-03</th>\n",
              "      <td>4.413605</td>\n",
              "    </tr>\n",
              "    <tr>\n",
              "      <th>1950-01-04</th>\n",
              "      <td>27.583983</td>\n",
              "    </tr>\n",
              "    <tr>\n",
              "      <th>1950-01-05</th>\n",
              "      <td>1.988475</td>\n",
              "    </tr>\n",
              "  </tbody>\n",
              "</table>\n",
              "</div>\n",
              "      <button class=\"colab-df-convert\" onclick=\"convertToInteractive('df-dcdce5f7-bbcf-40d0-9789-7e9c17bdb553')\"\n",
              "              title=\"Convert this dataframe to an interactive table.\"\n",
              "              style=\"display:none;\">\n",
              "        \n",
              "  <svg xmlns=\"http://www.w3.org/2000/svg\" height=\"24px\"viewBox=\"0 0 24 24\"\n",
              "       width=\"24px\">\n",
              "    <path d=\"M0 0h24v24H0V0z\" fill=\"none\"/>\n",
              "    <path d=\"M18.56 5.44l.94 2.06.94-2.06 2.06-.94-2.06-.94-.94-2.06-.94 2.06-2.06.94zm-11 1L8.5 8.5l.94-2.06 2.06-.94-2.06-.94L8.5 2.5l-.94 2.06-2.06.94zm10 10l.94 2.06.94-2.06 2.06-.94-2.06-.94-.94-2.06-.94 2.06-2.06.94z\"/><path d=\"M17.41 7.96l-1.37-1.37c-.4-.4-.92-.59-1.43-.59-.52 0-1.04.2-1.43.59L10.3 9.45l-7.72 7.72c-.78.78-.78 2.05 0 2.83L4 21.41c.39.39.9.59 1.41.59.51 0 1.02-.2 1.41-.59l7.78-7.78 2.81-2.81c.8-.78.8-2.07 0-2.86zM5.41 20L4 18.59l7.72-7.72 1.47 1.35L5.41 20z\"/>\n",
              "  </svg>\n",
              "      </button>\n",
              "      \n",
              "  <style>\n",
              "    .colab-df-container {\n",
              "      display:flex;\n",
              "      flex-wrap:wrap;\n",
              "      gap: 12px;\n",
              "    }\n",
              "\n",
              "    .colab-df-convert {\n",
              "      background-color: #E8F0FE;\n",
              "      border: none;\n",
              "      border-radius: 50%;\n",
              "      cursor: pointer;\n",
              "      display: none;\n",
              "      fill: #1967D2;\n",
              "      height: 32px;\n",
              "      padding: 0 0 0 0;\n",
              "      width: 32px;\n",
              "    }\n",
              "\n",
              "    .colab-df-convert:hover {\n",
              "      background-color: #E2EBFA;\n",
              "      box-shadow: 0px 1px 2px rgba(60, 64, 67, 0.3), 0px 1px 3px 1px rgba(60, 64, 67, 0.15);\n",
              "      fill: #174EA6;\n",
              "    }\n",
              "\n",
              "    [theme=dark] .colab-df-convert {\n",
              "      background-color: #3B4455;\n",
              "      fill: #D2E3FC;\n",
              "    }\n",
              "\n",
              "    [theme=dark] .colab-df-convert:hover {\n",
              "      background-color: #434B5C;\n",
              "      box-shadow: 0px 1px 3px 1px rgba(0, 0, 0, 0.15);\n",
              "      filter: drop-shadow(0px 1px 2px rgba(0, 0, 0, 0.3));\n",
              "      fill: #FFFFFF;\n",
              "    }\n",
              "  </style>\n",
              "\n",
              "      <script>\n",
              "        const buttonEl =\n",
              "          document.querySelector('#df-dcdce5f7-bbcf-40d0-9789-7e9c17bdb553 button.colab-df-convert');\n",
              "        buttonEl.style.display =\n",
              "          google.colab.kernel.accessAllowed ? 'block' : 'none';\n",
              "\n",
              "        async function convertToInteractive(key) {\n",
              "          const element = document.querySelector('#df-dcdce5f7-bbcf-40d0-9789-7e9c17bdb553');\n",
              "          const dataTable =\n",
              "            await google.colab.kernel.invokeFunction('convertToInteractive',\n",
              "                                                     [key], {});\n",
              "          if (!dataTable) return;\n",
              "\n",
              "          const docLinkHtml = 'Like what you see? Visit the ' +\n",
              "            '<a target=\"_blank\" href=https://colab.research.google.com/notebooks/data_table.ipynb>data table notebook</a>'\n",
              "            + ' to learn more about interactive tables.';\n",
              "          element.innerHTML = '';\n",
              "          dataTable['output_type'] = 'display_data';\n",
              "          await google.colab.output.renderOutput(dataTable, element);\n",
              "          const docLink = document.createElement('div');\n",
              "          docLink.innerHTML = docLinkHtml;\n",
              "          element.appendChild(docLink);\n",
              "        }\n",
              "      </script>\n",
              "    </div>\n",
              "  </div>\n",
              "  "
            ]
          },
          "metadata": {},
          "execution_count": 1
        }
      ]
    },
    {
      "cell_type": "markdown",
      "source": [
        "monthly mean"
      ],
      "metadata": {
        "id": "Tn2fVMV3S_6O"
      }
    },
    {
      "cell_type": "code",
      "source": [
        "mm = pd.read_csv('/content/data_Precipitation.csv')\n",
        "mm['Date'] = pd.to_datetime(mm['Date'])\n",
        "mm.resample('M', on='Date').mean()"
      ],
      "metadata": {
        "colab": {
          "base_uri": "https://localhost:8080/",
          "height": 455
        },
        "id": "1hSmy7dvS-By",
        "outputId": "919366ae-d1a6-44fb-e4d9-f8bb807093f5"
      },
      "execution_count": 2,
      "outputs": [
        {
          "output_type": "execute_result",
          "data": {
            "text/plain": [
              "            Precipitation\n",
              "Date                     \n",
              "1950-01-31       7.474498\n",
              "1950-02-28       4.236547\n",
              "1950-03-31       2.909981\n",
              "1950-04-30       3.584058\n",
              "1950-05-31       2.503505\n",
              "...                   ...\n",
              "2014-08-31       2.246686\n",
              "2014-09-30       2.606470\n",
              "2014-10-31       6.045129\n",
              "2014-11-30       5.069574\n",
              "2014-12-31       3.551625\n",
              "\n",
              "[780 rows x 1 columns]"
            ],
            "text/html": [
              "\n",
              "  <div id=\"df-8063003d-c196-4d73-b6ff-d90d681ccbed\">\n",
              "    <div class=\"colab-df-container\">\n",
              "      <div>\n",
              "<style scoped>\n",
              "    .dataframe tbody tr th:only-of-type {\n",
              "        vertical-align: middle;\n",
              "    }\n",
              "\n",
              "    .dataframe tbody tr th {\n",
              "        vertical-align: top;\n",
              "    }\n",
              "\n",
              "    .dataframe thead th {\n",
              "        text-align: right;\n",
              "    }\n",
              "</style>\n",
              "<table border=\"1\" class=\"dataframe\">\n",
              "  <thead>\n",
              "    <tr style=\"text-align: right;\">\n",
              "      <th></th>\n",
              "      <th>Precipitation</th>\n",
              "    </tr>\n",
              "    <tr>\n",
              "      <th>Date</th>\n",
              "      <th></th>\n",
              "    </tr>\n",
              "  </thead>\n",
              "  <tbody>\n",
              "    <tr>\n",
              "      <th>1950-01-31</th>\n",
              "      <td>7.474498</td>\n",
              "    </tr>\n",
              "    <tr>\n",
              "      <th>1950-02-28</th>\n",
              "      <td>4.236547</td>\n",
              "    </tr>\n",
              "    <tr>\n",
              "      <th>1950-03-31</th>\n",
              "      <td>2.909981</td>\n",
              "    </tr>\n",
              "    <tr>\n",
              "      <th>1950-04-30</th>\n",
              "      <td>3.584058</td>\n",
              "    </tr>\n",
              "    <tr>\n",
              "      <th>1950-05-31</th>\n",
              "      <td>2.503505</td>\n",
              "    </tr>\n",
              "    <tr>\n",
              "      <th>...</th>\n",
              "      <td>...</td>\n",
              "    </tr>\n",
              "    <tr>\n",
              "      <th>2014-08-31</th>\n",
              "      <td>2.246686</td>\n",
              "    </tr>\n",
              "    <tr>\n",
              "      <th>2014-09-30</th>\n",
              "      <td>2.606470</td>\n",
              "    </tr>\n",
              "    <tr>\n",
              "      <th>2014-10-31</th>\n",
              "      <td>6.045129</td>\n",
              "    </tr>\n",
              "    <tr>\n",
              "      <th>2014-11-30</th>\n",
              "      <td>5.069574</td>\n",
              "    </tr>\n",
              "    <tr>\n",
              "      <th>2014-12-31</th>\n",
              "      <td>3.551625</td>\n",
              "    </tr>\n",
              "  </tbody>\n",
              "</table>\n",
              "<p>780 rows × 1 columns</p>\n",
              "</div>\n",
              "      <button class=\"colab-df-convert\" onclick=\"convertToInteractive('df-8063003d-c196-4d73-b6ff-d90d681ccbed')\"\n",
              "              title=\"Convert this dataframe to an interactive table.\"\n",
              "              style=\"display:none;\">\n",
              "        \n",
              "  <svg xmlns=\"http://www.w3.org/2000/svg\" height=\"24px\"viewBox=\"0 0 24 24\"\n",
              "       width=\"24px\">\n",
              "    <path d=\"M0 0h24v24H0V0z\" fill=\"none\"/>\n",
              "    <path d=\"M18.56 5.44l.94 2.06.94-2.06 2.06-.94-2.06-.94-.94-2.06-.94 2.06-2.06.94zm-11 1L8.5 8.5l.94-2.06 2.06-.94-2.06-.94L8.5 2.5l-.94 2.06-2.06.94zm10 10l.94 2.06.94-2.06 2.06-.94-2.06-.94-.94-2.06-.94 2.06-2.06.94z\"/><path d=\"M17.41 7.96l-1.37-1.37c-.4-.4-.92-.59-1.43-.59-.52 0-1.04.2-1.43.59L10.3 9.45l-7.72 7.72c-.78.78-.78 2.05 0 2.83L4 21.41c.39.39.9.59 1.41.59.51 0 1.02-.2 1.41-.59l7.78-7.78 2.81-2.81c.8-.78.8-2.07 0-2.86zM5.41 20L4 18.59l7.72-7.72 1.47 1.35L5.41 20z\"/>\n",
              "  </svg>\n",
              "      </button>\n",
              "      \n",
              "  <style>\n",
              "    .colab-df-container {\n",
              "      display:flex;\n",
              "      flex-wrap:wrap;\n",
              "      gap: 12px;\n",
              "    }\n",
              "\n",
              "    .colab-df-convert {\n",
              "      background-color: #E8F0FE;\n",
              "      border: none;\n",
              "      border-radius: 50%;\n",
              "      cursor: pointer;\n",
              "      display: none;\n",
              "      fill: #1967D2;\n",
              "      height: 32px;\n",
              "      padding: 0 0 0 0;\n",
              "      width: 32px;\n",
              "    }\n",
              "\n",
              "    .colab-df-convert:hover {\n",
              "      background-color: #E2EBFA;\n",
              "      box-shadow: 0px 1px 2px rgba(60, 64, 67, 0.3), 0px 1px 3px 1px rgba(60, 64, 67, 0.15);\n",
              "      fill: #174EA6;\n",
              "    }\n",
              "\n",
              "    [theme=dark] .colab-df-convert {\n",
              "      background-color: #3B4455;\n",
              "      fill: #D2E3FC;\n",
              "    }\n",
              "\n",
              "    [theme=dark] .colab-df-convert:hover {\n",
              "      background-color: #434B5C;\n",
              "      box-shadow: 0px 1px 3px 1px rgba(0, 0, 0, 0.15);\n",
              "      filter: drop-shadow(0px 1px 2px rgba(0, 0, 0, 0.3));\n",
              "      fill: #FFFFFF;\n",
              "    }\n",
              "  </style>\n",
              "\n",
              "      <script>\n",
              "        const buttonEl =\n",
              "          document.querySelector('#df-8063003d-c196-4d73-b6ff-d90d681ccbed button.colab-df-convert');\n",
              "        buttonEl.style.display =\n",
              "          google.colab.kernel.accessAllowed ? 'block' : 'none';\n",
              "\n",
              "        async function convertToInteractive(key) {\n",
              "          const element = document.querySelector('#df-8063003d-c196-4d73-b6ff-d90d681ccbed');\n",
              "          const dataTable =\n",
              "            await google.colab.kernel.invokeFunction('convertToInteractive',\n",
              "                                                     [key], {});\n",
              "          if (!dataTable) return;\n",
              "\n",
              "          const docLinkHtml = 'Like what you see? Visit the ' +\n",
              "            '<a target=\"_blank\" href=https://colab.research.google.com/notebooks/data_table.ipynb>data table notebook</a>'\n",
              "            + ' to learn more about interactive tables.';\n",
              "          element.innerHTML = '';\n",
              "          dataTable['output_type'] = 'display_data';\n",
              "          await google.colab.output.renderOutput(dataTable, element);\n",
              "          const docLink = document.createElement('div');\n",
              "          docLink.innerHTML = docLinkHtml;\n",
              "          element.appendChild(docLink);\n",
              "        }\n",
              "      </script>\n",
              "    </div>\n",
              "  </div>\n",
              "  "
            ]
          },
          "metadata": {},
          "execution_count": 2
        }
      ]
    },
    {
      "cell_type": "code",
      "source": [
        "#plotting my data\n",
        "ts.plot(figsize=(10,10))\n",
        "plt.show()"
      ],
      "metadata": {
        "id": "n5nc5qoWG1ba",
        "colab": {
          "base_uri": "https://localhost:8080/",
          "height": 563
        },
        "outputId": "fbdd2c40-f872-4ea3-ad6b-99c78e92d731"
      },
      "execution_count": 3,
      "outputs": [
        {
          "output_type": "display_data",
          "data": {
            "text/plain": [
              "<Figure size 720x720 with 1 Axes>"
            ],
            "image/png": "[encoded data removed]"
          },
          "metadata": {
            "needs_background": "light"
          }
        }
      ]
    },
    {
      "cell_type": "code",
      "source": [
        "#checking if data is stationary\n",
        "from statsmodels.tsa.stattools import adfuller\n",
        "results = adfuller(ts['Precipitation'])\n",
        "print(results[0])\n",
        "print('P value is:', results[1])"
      ],
      "metadata": {
        "colab": {
          "base_uri": "https://localhost:8080/",
          "height": 0
        },
        "id": "Vit4mA0-xr5n",
        "outputId": "f7bdd889-c422-48f0-ddb0-5051a2dd782e"
      },
      "execution_count": 4,
      "outputs": [
        {
          "output_type": "stream",
          "name": "stdout",
          "text": [
            "-108.39772634860783\n",
            "P value is: 0.0\n"
          ]
        }
      ]
    },
    {
      "cell_type": "markdown",
      "source": [
        "#the above data is stationary"
      ],
      "metadata": {
        "id": "LYOVfAx3yX1u"
      }
    },
    {
      "cell_type": "code",
      "source": [
        "!pip install pmdarima"
      ],
      "metadata": {
        "colab": {
          "base_uri": "https://localhost:8080/",
          "height": 0
        },
        "id": "MqNn5FZUxr70",
        "outputId": "0dd126b0-4429-4dfd-ee25-6de663de264f"
      },
      "execution_count": 5,
      "outputs": [
        {
          "output_type": "stream",
          "name": "stdout",
          "text": [
            "Requirement already satisfied: pmdarima in /usr/local/lib/python3.7/dist-packages (1.8.5)\n",
            "Requirement already satisfied: pandas>=0.19 in /usr/local/lib/python3.7/dist-packages (from pmdarima) (1.3.5)\n",
            "Requirement already satisfied: statsmodels!=0.12.0,>=0.11 in /usr/local/lib/python3.7/dist-packages (from pmdarima) (0.13.2)\n",
            "Requirement already satisfied: scikit-learn>=0.22 in /usr/local/lib/python3.7/dist-packages (from pmdarima) (1.0.2)\n",
            "Requirement already satisfied: joblib>=0.11 in /usr/local/lib/python3.7/dist-packages (from pmdarima) (1.1.0)\n",
            "Requirement already satisfied: scipy>=1.3.2 in /usr/local/lib/python3.7/dist-packages (from pmdarima) (1.4.1)\n",
            "Requirement already satisfied: urllib3 in /usr/local/lib/python3.7/dist-packages (from pmdarima) (1.24.3)\n",
            "Requirement already satisfied: setuptools!=50.0.0,>=38.6.0 in /usr/local/lib/python3.7/dist-packages (from pmdarima) (57.4.0)\n",
            "Requirement already satisfied: numpy>=1.19.3 in /usr/local/lib/python3.7/dist-packages (from pmdarima) (1.21.5)\n",
            "Requirement already satisfied: Cython!=0.29.18,>=0.29 in /usr/local/lib/python3.7/dist-packages (from pmdarima) (0.29.28)\n",
            "Requirement already satisfied: pytz>=2017.3 in /usr/local/lib/python3.7/dist-packages (from pandas>=0.19->pmdarima) (2018.9)\n",
            "Requirement already satisfied: python-dateutil>=2.7.3 in /usr/local/lib/python3.7/dist-packages (from pandas>=0.19->pmdarima) (2.8.2)\n",
            "Requirement already satisfied: six>=1.5 in /usr/local/lib/python3.7/dist-packages (from python-dateutil>=2.7.3->pandas>=0.19->pmdarima) (1.15.0)\n",
            "Requirement already satisfied: threadpoolctl>=2.0.0 in /usr/local/lib/python3.7/dist-packages (from scikit-learn>=0.22->pmdarima) (3.1.0)\n",
            "Requirement already satisfied: packaging>=21.3 in /usr/local/lib/python3.7/dist-packages (from statsmodels!=0.12.0,>=0.11->pmdarima) (21.3)\n",
            "Requirement already satisfied: patsy>=0.5.2 in /usr/local/lib/python3.7/dist-packages (from statsmodels!=0.12.0,>=0.11->pmdarima) (0.5.2)\n",
            "Requirement already satisfied: pyparsing!=3.0.5,>=2.0.2 in /usr/local/lib/python3.7/dist-packages (from packaging>=21.3->statsmodels!=0.12.0,>=0.11->pmdarima) (3.0.7)\n"
          ]
        }
      ]
    },
    {
      "cell_type": "code",
      "source": [
        "from pmdarima import auto_arima\n",
        "import warnings\n",
        "warnings.filterwarnings('ignore')\n",
        "\n",
        "Wise_fit = auto_arima(ts['Precipitation'], trace = True, suppress_warnings=True)"
      ],
      "metadata": {
        "colab": {
          "base_uri": "https://localhost:8080/",
          "height": 0
        },
        "id": "HFzIzXPDxr9v",
        "outputId": "5c3344b5-1213-4c60-c594-ca032d581dc1"
      },
      "execution_count": 6,
      "outputs": [
        {
          "output_type": "stream",
          "name": "stdout",
          "text": [
            "Performing stepwise search to minimize aic\n",
            " ARIMA(2,0,2)(0,0,0)[0] intercept   : AIC=167418.179, Time=20.06 sec\n",
            " ARIMA(0,0,0)(0,0,0)[0] intercept   : AIC=167799.476, Time=1.29 sec\n",
            " ARIMA(1,0,0)(0,0,0)[0] intercept   : AIC=167488.572, Time=1.50 sec\n",
            " ARIMA(0,0,1)(0,0,0)[0] intercept   : AIC=167455.838, Time=6.76 sec\n",
            " ARIMA(0,0,0)(0,0,0)[0]             : AIC=172002.343, Time=0.54 sec\n",
            " ARIMA(1,0,2)(0,0,0)[0] intercept   : AIC=167418.717, Time=24.50 sec\n",
            " ARIMA(2,0,1)(0,0,0)[0] intercept   : AIC=167416.599, Time=14.49 sec\n",
            " ARIMA(1,0,1)(0,0,0)[0] intercept   : AIC=167431.898, Time=13.21 sec\n",
            " ARIMA(2,0,0)(0,0,0)[0] intercept   : AIC=167415.898, Time=1.33 sec\n",
            " ARIMA(3,0,0)(0,0,0)[0] intercept   : AIC=167416.453, Time=3.06 sec\n",
            " ARIMA(3,0,1)(0,0,0)[0] intercept   : AIC=167418.447, Time=9.84 sec\n",
            " ARIMA(2,0,0)(0,0,0)[0]             : AIC=170268.896, Time=0.59 sec\n",
            "\n",
            "Best model:  ARIMA(2,0,0)(0,0,0)[0] intercept\n",
            "Total fit time: 97.209 seconds\n"
          ]
        }
      ]
    },
    {
      "cell_type": "code",
      "source": [
        "df2 = pd.read_csv('/content/data_Precipitation.csv')\n",
        "df2['Date'] = pd.to_datetime(df2['Date'])"
      ],
      "metadata": {
        "id": "47QghwAb0ix4"
      },
      "execution_count": 7,
      "outputs": []
    },
    {
      "cell_type": "code",
      "source": [
        "#Splitting into train and test\n",
        "train = df2.loc[df2['Date'] <= '1999-12-31']\n",
        "test = df2.loc[df2['Date']>= '2000-01-01']\n"
      ],
      "metadata": {
        "id": "DACW4Odh0i0V"
      },
      "execution_count": 8,
      "outputs": []
    },
    {
      "cell_type": "code",
      "source": [
        "\n",
        "from statsmodels.tsa.arima.model import ARIMA\n",
        "model_train = ARIMA(train['Precipitation'], order = (2,0,0))\n",
        "model_train = model_train.fit()"
      ],
      "metadata": {
        "id": "Rar2EU4Z0i2l"
      },
      "execution_count": 9,
      "outputs": []
    },
    {
      "cell_type": "code",
      "source": [
        "model_train.summary()"
      ],
      "metadata": {
        "colab": {
          "base_uri": "https://localhost:8080/",
          "height": 445
        },
        "id": "TjE69rYw4A9h",
        "outputId": "7999c09f-3c5b-4067-eba2-bcba799966c5"
      },
      "execution_count": 10,
      "outputs": [
        {
          "output_type": "execute_result",
          "data": {
            "text/plain": [
              "<class 'statsmodels.iolib.summary.Summary'>\n",
              "\"\"\"\n",
              "                               SARIMAX Results                                \n",
              "==============================================================================\n",
              "Dep. Variable:          Precipitation   No. Observations:                18250\n",
              "Model:                 ARIMA(2, 0, 0)   Log Likelihood              -64178.035\n",
              "Date:                Tue, 29 Mar 2022   AIC                         128364.070\n",
              "Time:                        00:16:21   BIC                         128395.318\n",
              "Sample:                             0   HQIC                        128374.339\n",
              "                              - 18250                                         \n",
              "Covariance Type:                  opg                                         \n",
              "==============================================================================\n",
              "                 coef    std err          z      P>|z|      [0.025      0.975]\n",
              "------------------------------------------------------------------------------\n",
              "const          3.6417      0.088     41.593      0.000       3.470       3.813\n",
              "ar.L1          0.1283      0.005     24.032      0.000       0.118       0.139\n",
              "ar.L2         -0.0541      0.007     -8.026      0.000      -0.067      -0.041\n",
              "sigma2        66.3814      0.185    359.510      0.000      66.020      66.743\n",
              "===================================================================================\n",
              "Ljung-Box (L1) (Q):                   0.01   Jarque-Bera (JB):           2719339.23\n",
              "Prob(Q):                              0.92   Prob(JB):                         0.00\n",
              "Heteroskedasticity (H):               1.12   Skew:                             4.86\n",
              "Prob(H) (two-sided):                  0.00   Kurtosis:                        62.01\n",
              "===================================================================================\n",
              "\n",
              "Warnings:\n",
              "[1] Covariance matrix calculated using the outer product of gradients (complex-step).\n",
              "\"\"\""
            ],
            "text/html": [
              "<table class=\"simpletable\">\n",
              "<caption>SARIMAX Results</caption>\n",
              "<tr>\n",
              "  <th>Dep. Variable:</th>     <td>Precipitation</td>  <th>  No. Observations:  </th>    <td>18250</td>  \n",
              "</tr>\n",
              "<tr>\n",
              "  <th>Model:</th>            <td>ARIMA(2, 0, 0)</td>  <th>  Log Likelihood     </th> <td>-64178.035</td>\n",
              "</tr>\n",
              "<tr>\n",
              "  <th>Date:</th>            <td>Tue, 29 Mar 2022</td> <th>  AIC                </th> <td>128364.070</td>\n",
              "</tr>\n",
              "<tr>\n",
              "  <th>Time:</th>                <td>00:16:21</td>     <th>  BIC                </th> <td>128395.318</td>\n",
              "</tr>\n",
              "<tr>\n",
              "  <th>Sample:</th>                  <td>0</td>        <th>  HQIC               </th> <td>128374.339</td>\n",
              "</tr>\n",
              "<tr>\n",
              "  <th></th>                     <td> - 18250</td>     <th>                     </th>      <td> </td>    \n",
              "</tr>\n",
              "<tr>\n",
              "  <th>Covariance Type:</th>        <td>opg</td>       <th>                     </th>      <td> </td>    \n",
              "</tr>\n",
              "</table>\n",
              "<table class=\"simpletable\">\n",
              "<tr>\n",
              "     <td></td>       <th>coef</th>     <th>std err</th>      <th>z</th>      <th>P>|z|</th>  <th>[0.025</th>    <th>0.975]</th>  \n",
              "</tr>\n",
              "<tr>\n",
              "  <th>const</th>  <td>    3.6417</td> <td>    0.088</td> <td>   41.593</td> <td> 0.000</td> <td>    3.470</td> <td>    3.813</td>\n",
              "</tr>\n",
              "<tr>\n",
              "  <th>ar.L1</th>  <td>    0.1283</td> <td>    0.005</td> <td>   24.032</td> <td> 0.000</td> <td>    0.118</td> <td>    0.139</td>\n",
              "</tr>\n",
              "<tr>\n",
              "  <th>ar.L2</th>  <td>   -0.0541</td> <td>    0.007</td> <td>   -8.026</td> <td> 0.000</td> <td>   -0.067</td> <td>   -0.041</td>\n",
              "</tr>\n",
              "<tr>\n",
              "  <th>sigma2</th> <td>   66.3814</td> <td>    0.185</td> <td>  359.510</td> <td> 0.000</td> <td>   66.020</td> <td>   66.743</td>\n",
              "</tr>\n",
              "</table>\n",
              "<table class=\"simpletable\">\n",
              "<tr>\n",
              "  <th>Ljung-Box (L1) (Q):</th>     <td>0.01</td> <th>  Jarque-Bera (JB):  </th> <td>2719339.23</td>\n",
              "</tr>\n",
              "<tr>\n",
              "  <th>Prob(Q):</th>                <td>0.92</td> <th>  Prob(JB):          </th>    <td>0.00</td>   \n",
              "</tr>\n",
              "<tr>\n",
              "  <th>Heteroskedasticity (H):</th> <td>1.12</td> <th>  Skew:              </th>    <td>4.86</td>   \n",
              "</tr>\n",
              "<tr>\n",
              "  <th>Prob(H) (two-sided):</th>    <td>0.00</td> <th>  Kurtosis:          </th>    <td>62.01</td>  \n",
              "</tr>\n",
              "</table><br/><br/>Warnings:<br/>[1] Covariance matrix calculated using the outer product of gradients (complex-step)."
            ]
          },
          "metadata": {},
          "execution_count": 10
        }
      ]
    },
    {
      "cell_type": "code",
      "source": [
        "test.head()"
      ],
      "metadata": {
        "colab": {
          "base_uri": "https://localhost:8080/",
          "height": 206
        },
        "id": "fqaXH0nT6X8H",
        "outputId": "cea00315-3dac-46c7-8bf3-7eca026df266"
      },
      "execution_count": 11,
      "outputs": [
        {
          "output_type": "execute_result",
          "data": {
            "text/plain": [
              "            Date  Precipitation\n",
              "18250 2000-01-01       0.000046\n",
              "18251 2000-01-02       5.651877\n",
              "18252 2000-01-03       7.189747\n",
              "18253 2000-01-04       0.971326\n",
              "18254 2000-01-05      50.309398"
            ],
            "text/html": [
              "\n",
              "  <div id=\"df-e00456d2-061f-4cda-aac3-16c2f96307e2\">\n",
              "    <div class=\"colab-df-container\">\n",
              "      <div>\n",
              "<style scoped>\n",
              "    .dataframe tbody tr th:only-of-type {\n",
              "        vertical-align: middle;\n",
              "    }\n",
              "\n",
              "    .dataframe tbody tr th {\n",
              "        vertical-align: top;\n",
              "    }\n",
              "\n",
              "    .dataframe thead th {\n",
              "        text-align: right;\n",
              "    }\n",
              "</style>\n",
              "<table border=\"1\" class=\"dataframe\">\n",
              "  <thead>\n",
              "    <tr style=\"text-align: right;\">\n",
              "      <th></th>\n",
              "      <th>Date</th>\n",
              "      <th>Precipitation</th>\n",
              "    </tr>\n",
              "  </thead>\n",
              "  <tbody>\n",
              "    <tr>\n",
              "      <th>18250</th>\n",
              "      <td>2000-01-01</td>\n",
              "      <td>0.000046</td>\n",
              "    </tr>\n",
              "    <tr>\n",
              "      <th>18251</th>\n",
              "      <td>2000-01-02</td>\n",
              "      <td>5.651877</td>\n",
              "    </tr>\n",
              "    <tr>\n",
              "      <th>18252</th>\n",
              "      <td>2000-01-03</td>\n",
              "      <td>7.189747</td>\n",
              "    </tr>\n",
              "    <tr>\n",
              "      <th>18253</th>\n",
              "      <td>2000-01-04</td>\n",
              "      <td>0.971326</td>\n",
              "    </tr>\n",
              "    <tr>\n",
              "      <th>18254</th>\n",
              "      <td>2000-01-05</td>\n",
              "      <td>50.309398</td>\n",
              "    </tr>\n",
              "  </tbody>\n",
              "</table>\n",
              "</div>\n",
              "      <button class=\"colab-df-convert\" onclick=\"convertToInteractive('df-e00456d2-061f-4cda-aac3-16c2f96307e2')\"\n",
              "              title=\"Convert this dataframe to an interactive table.\"\n",
              "              style=\"display:none;\">\n",
              "        \n",
              "  <svg xmlns=\"http://www.w3.org/2000/svg\" height=\"24px\"viewBox=\"0 0 24 24\"\n",
              "       width=\"24px\">\n",
              "    <path d=\"M0 0h24v24H0V0z\" fill=\"none\"/>\n",
              "    <path d=\"M18.56 5.44l.94 2.06.94-2.06 2.06-.94-2.06-.94-.94-2.06-.94 2.06-2.06.94zm-11 1L8.5 8.5l.94-2.06 2.06-.94-2.06-.94L8.5 2.5l-.94 2.06-2.06.94zm10 10l.94 2.06.94-2.06 2.06-.94-2.06-.94-.94-2.06-.94 2.06-2.06.94z\"/><path d=\"M17.41 7.96l-1.37-1.37c-.4-.4-.92-.59-1.43-.59-.52 0-1.04.2-1.43.59L10.3 9.45l-7.72 7.72c-.78.78-.78 2.05 0 2.83L4 21.41c.39.39.9.59 1.41.59.51 0 1.02-.2 1.41-.59l7.78-7.78 2.81-2.81c.8-.78.8-2.07 0-2.86zM5.41 20L4 18.59l7.72-7.72 1.47 1.35L5.41 20z\"/>\n",
              "  </svg>\n",
              "      </button>\n",
              "      \n",
              "  <style>\n",
              "    .colab-df-container {\n",
              "      display:flex;\n",
              "      flex-wrap:wrap;\n",
              "      gap: 12px;\n",
              "    }\n",
              "\n",
              "    .colab-df-convert {\n",
              "      background-color: #E8F0FE;\n",
              "      border: none;\n",
              "      border-radius: 50%;\n",
              "      cursor: pointer;\n",
              "      display: none;\n",
              "      fill: #1967D2;\n",
              "      height: 32px;\n",
              "      padding: 0 0 0 0;\n",
              "      width: 32px;\n",
              "    }\n",
              "\n",
              "    .colab-df-convert:hover {\n",
              "      background-color: #E2EBFA;\n",
              "      box-shadow: 0px 1px 2px rgba(60, 64, 67, 0.3), 0px 1px 3px 1px rgba(60, 64, 67, 0.15);\n",
              "      fill: #174EA6;\n",
              "    }\n",
              "\n",
              "    [theme=dark] .colab-df-convert {\n",
              "      background-color: #3B4455;\n",
              "      fill: #D2E3FC;\n",
              "    }\n",
              "\n",
              "    [theme=dark] .colab-df-convert:hover {\n",
              "      background-color: #434B5C;\n",
              "      box-shadow: 0px 1px 3px 1px rgba(0, 0, 0, 0.15);\n",
              "      filter: drop-shadow(0px 1px 2px rgba(0, 0, 0, 0.3));\n",
              "      fill: #FFFFFF;\n",
              "    }\n",
              "  </style>\n",
              "\n",
              "      <script>\n",
              "        const buttonEl =\n",
              "          document.querySelector('#df-e00456d2-061f-4cda-aac3-16c2f96307e2 button.colab-df-convert');\n",
              "        buttonEl.style.display =\n",
              "          google.colab.kernel.accessAllowed ? 'block' : 'none';\n",
              "\n",
              "        async function convertToInteractive(key) {\n",
              "          const element = document.querySelector('#df-e00456d2-061f-4cda-aac3-16c2f96307e2');\n",
              "          const dataTable =\n",
              "            await google.colab.kernel.invokeFunction('convertToInteractive',\n",
              "                                                     [key], {});\n",
              "          if (!dataTable) return;\n",
              "\n",
              "          const docLinkHtml = 'Like what you see? Visit the ' +\n",
              "            '<a target=\"_blank\" href=https://colab.research.google.com/notebooks/data_table.ipynb>data table notebook</a>'\n",
              "            + ' to learn more about interactive tables.';\n",
              "          element.innerHTML = '';\n",
              "          dataTable['output_type'] = 'display_data';\n",
              "          await google.colab.output.renderOutput(dataTable, element);\n",
              "          const docLink = document.createElement('div');\n",
              "          docLink.innerHTML = docLinkHtml;\n",
              "          element.appendChild(docLink);\n",
              "        }\n",
              "      </script>\n",
              "    </div>\n",
              "  </div>\n",
              "  "
            ]
          },
          "metadata": {},
          "execution_count": 11
        }
      ]
    },
    {
      "cell_type": "code",
      "source": [
        "#testing part\n",
        "import datetime\n",
        "start = len(train)\n",
        "\n",
        "end = len(train)+len(test)-1\n",
        "test['forecast']= model_train.predict( start=start, end=end, dynamic=False)\n",
        "#test[['Precipitation','forecast']].plot(figsize=(12,8))"
      ],
      "metadata": {
        "id": "wRWoxAff4w_m"
      },
      "execution_count": 12,
      "outputs": []
    },
    {
      "cell_type": "code",
      "source": [
        "test.head()"
      ],
      "metadata": {
        "colab": {
          "base_uri": "https://localhost:8080/",
          "height": 206
        },
        "id": "VrXw3zuZ9K--",
        "outputId": "e58424ab-0ec2-4c6d-ea9a-519dfe03d4aa"
      },
      "execution_count": 13,
      "outputs": [
        {
          "output_type": "execute_result",
          "data": {
            "text/plain": [
              "            Date  Precipitation  forecast\n",
              "18250 2000-01-01       0.000046  2.625337\n",
              "18251 2000-01-02       5.651877  3.708418\n",
              "18252 2000-01-03       7.189747  3.705288\n",
              "18253 2000-01-04       0.971326  3.646247\n",
              "18254 2000-01-05      50.309398  3.638839"
            ],
            "text/html": [
              "\n",
              "  <div id=\"df-e56df8b9-6a0e-4215-a67f-b8f68a99dadf\">\n",
              "    <div class=\"colab-df-container\">\n",
              "      <div>\n",
              "<style scoped>\n",
              "    .dataframe tbody tr th:only-of-type {\n",
              "        vertical-align: middle;\n",
              "    }\n",
              "\n",
              "    .dataframe tbody tr th {\n",
              "        vertical-align: top;\n",
              "    }\n",
              "\n",
              "    .dataframe thead th {\n",
              "        text-align: right;\n",
              "    }\n",
              "</style>\n",
              "<table border=\"1\" class=\"dataframe\">\n",
              "  <thead>\n",
              "    <tr style=\"text-align: right;\">\n",
              "      <th></th>\n",
              "      <th>Date</th>\n",
              "      <th>Precipitation</th>\n",
              "      <th>forecast</th>\n",
              "    </tr>\n",
              "  </thead>\n",
              "  <tbody>\n",
              "    <tr>\n",
              "      <th>18250</th>\n",
              "      <td>2000-01-01</td>\n",
              "      <td>0.000046</td>\n",
              "      <td>2.625337</td>\n",
              "    </tr>\n",
              "    <tr>\n",
              "      <th>18251</th>\n",
              "      <td>2000-01-02</td>\n",
              "      <td>5.651877</td>\n",
              "      <td>3.708418</td>\n",
              "    </tr>\n",
              "    <tr>\n",
              "      <th>18252</th>\n",
              "      <td>2000-01-03</td>\n",
              "      <td>7.189747</td>\n",
              "      <td>3.705288</td>\n",
              "    </tr>\n",
              "    <tr>\n",
              "      <th>18253</th>\n",
              "      <td>2000-01-04</td>\n",
              "      <td>0.971326</td>\n",
              "      <td>3.646247</td>\n",
              "    </tr>\n",
              "    <tr>\n",
              "      <th>18254</th>\n",
              "      <td>2000-01-05</td>\n",
              "      <td>50.309398</td>\n",
              "      <td>3.638839</td>\n",
              "    </tr>\n",
              "  </tbody>\n",
              "</table>\n",
              "</div>\n",
              "      <button class=\"colab-df-convert\" onclick=\"convertToInteractive('df-e56df8b9-6a0e-4215-a67f-b8f68a99dadf')\"\n",
              "              title=\"Convert this dataframe to an interactive table.\"\n",
              "              style=\"display:none;\">\n",
              "        \n",
              "  <svg xmlns=\"http://www.w3.org/2000/svg\" height=\"24px\"viewBox=\"0 0 24 24\"\n",
              "       width=\"24px\">\n",
              "    <path d=\"M0 0h24v24H0V0z\" fill=\"none\"/>\n",
              "    <path d=\"M18.56 5.44l.94 2.06.94-2.06 2.06-.94-2.06-.94-.94-2.06-.94 2.06-2.06.94zm-11 1L8.5 8.5l.94-2.06 2.06-.94-2.06-.94L8.5 2.5l-.94 2.06-2.06.94zm10 10l.94 2.06.94-2.06 2.06-.94-2.06-.94-.94-2.06-.94 2.06-2.06.94z\"/><path d=\"M17.41 7.96l-1.37-1.37c-.4-.4-.92-.59-1.43-.59-.52 0-1.04.2-1.43.59L10.3 9.45l-7.72 7.72c-.78.78-.78 2.05 0 2.83L4 21.41c.39.39.9.59 1.41.59.51 0 1.02-.2 1.41-.59l7.78-7.78 2.81-2.81c.8-.78.8-2.07 0-2.86zM5.41 20L4 18.59l7.72-7.72 1.47 1.35L5.41 20z\"/>\n",
              "  </svg>\n",
              "      </button>\n",
              "      \n",
              "  <style>\n",
              "    .colab-df-container {\n",
              "      display:flex;\n",
              "      flex-wrap:wrap;\n",
              "      gap: 12px;\n",
              "    }\n",
              "\n",
              "    .colab-df-convert {\n",
              "      background-color: #E8F0FE;\n",
              "      border: none;\n",
              "      border-radius: 50%;\n",
              "      cursor: pointer;\n",
              "      display: none;\n",
              "      fill: #1967D2;\n",
              "      height: 32px;\n",
              "      padding: 0 0 0 0;\n",
              "      width: 32px;\n",
              "    }\n",
              "\n",
              "    .colab-df-convert:hover {\n",
              "      background-color: #E2EBFA;\n",
              "      box-shadow: 0px 1px 2px rgba(60, 64, 67, 0.3), 0px 1px 3px 1px rgba(60, 64, 67, 0.15);\n",
              "      fill: #174EA6;\n",
              "    }\n",
              "\n",
              "    [theme=dark] .colab-df-convert {\n",
              "      background-color: #3B4455;\n",
              "      fill: #D2E3FC;\n",
              "    }\n",
              "\n",
              "    [theme=dark] .colab-df-convert:hover {\n",
              "      background-color: #434B5C;\n",
              "      box-shadow: 0px 1px 3px 1px rgba(0, 0, 0, 0.15);\n",
              "      filter: drop-shadow(0px 1px 2px rgba(0, 0, 0, 0.3));\n",
              "      fill: #FFFFFF;\n",
              "    }\n",
              "  </style>\n",
              "\n",
              "      <script>\n",
              "        const buttonEl =\n",
              "          document.querySelector('#df-e56df8b9-6a0e-4215-a67f-b8f68a99dadf button.colab-df-convert');\n",
              "        buttonEl.style.display =\n",
              "          google.colab.kernel.accessAllowed ? 'block' : 'none';\n",
              "\n",
              "        async function convertToInteractive(key) {\n",
              "          const element = document.querySelector('#df-e56df8b9-6a0e-4215-a67f-b8f68a99dadf');\n",
              "          const dataTable =\n",
              "            await google.colab.kernel.invokeFunction('convertToInteractive',\n",
              "                                                     [key], {});\n",
              "          if (!dataTable) return;\n",
              "\n",
              "          const docLinkHtml = 'Like what you see? Visit the ' +\n",
              "            '<a target=\"_blank\" href=https://colab.research.google.com/notebooks/data_table.ipynb>data table notebook</a>'\n",
              "            + ' to learn more about interactive tables.';\n",
              "          element.innerHTML = '';\n",
              "          dataTable['output_type'] = 'display_data';\n",
              "          await google.colab.output.renderOutput(dataTable, element);\n",
              "          const docLink = document.createElement('div');\n",
              "          docLink.innerHTML = docLinkHtml;\n",
              "          element.appendChild(docLink);\n",
              "        }\n",
              "      </script>\n",
              "    </div>\n",
              "  </div>\n",
              "  "
            ]
          },
          "metadata": {},
          "execution_count": 13
        }
      ]
    },
    {
      "cell_type": "code",
      "source": [
        "from sklearn.metrics import mean_squared_error\n",
        "\n",
        "print('MSE without using the boxcox transform:',mean_squared_error(test1.Precipitation, test1.forecast))"
      ],
      "metadata": {
        "colab": {
          "base_uri": "https://localhost:8080/",
          "height": 0
        },
        "id": "R6lISFQuJ0W-",
        "outputId": "c95ed23d-f80f-4186-f25c-79ff5bf835d7"
      },
      "execution_count": 37,
      "outputs": [
        {
          "output_type": "stream",
          "name": "stdout",
          "text": [
            "MSE without using the boxcox transform: 73.91905514465313\n"
          ]
        }
      ]
    },
    {
      "cell_type": "markdown",
      "source": [
        "#uisng boxcox transformation\n"
      ],
      "metadata": {
        "id": "CKmNZLK4FWHx"
      }
    },
    {
      "cell_type": "code",
      "source": [
        "from scipy.stats import boxcox\n",
        "df_pos = ts.loc[ts['Precipitation'] > 0]\n",
        "df_pos['Precipitation'] = boxcox(df_pos['Precipitation'], lmbda=2)"
      ],
      "metadata": {
        "id": "Y_j0aFfGFVJE"
      },
      "execution_count": 16,
      "outputs": []
    },
    {
      "cell_type": "code",
      "source": [
        "#plotting my data\n",
        "df_pos.plot(figsize=(10,10))\n",
        "plt.show()"
      ],
      "metadata": {
        "colab": {
          "base_uri": "https://localhost:8080/",
          "height": 563
        },
        "id": "c6cH4xx3F0GQ",
        "outputId": "5329d128-0565-4b25-de66-452f9d72133f"
      },
      "execution_count": 17,
      "outputs": [
        {
          "output_type": "display_data",
          "data": {
            "text/plain": [
              "<Figure size 720x720 with 1 Axes>"
            ],
            "image/png": "[encoded data removed]"
          },
          "metadata": {
            "needs_background": "light"
          }
        }
      ]
    },
    {
      "cell_type": "code",
      "source": [
        "#checking if data is stationary\n",
        "from statsmodels.tsa.stattools import adfuller\n",
        "results = adfuller(df_pos['Precipitation'])\n",
        "print(results[0])\n",
        "print('P value is:', results[1])"
      ],
      "metadata": {
        "colab": {
          "base_uri": "https://localhost:8080/",
          "height": 0
        },
        "id": "YxcOQb44F6MU",
        "outputId": "6a4dabe5-22be-464a-8e47-91fbafda7288"
      },
      "execution_count": 18,
      "outputs": [
        {
          "output_type": "stream",
          "name": "stdout",
          "text": [
            "-54.96325537226066\n",
            "P value is: 0.0\n"
          ]
        }
      ]
    },
    {
      "cell_type": "code",
      "source": [
        "from pmdarima import auto_arima\n",
        "import warnings\n",
        "warnings.filterwarnings('ignore')\n",
        "\n",
        "good_fit = auto_arima(df_pos['Precipitation'], trace = True, suppress_warnings=True)"
      ],
      "metadata": {
        "colab": {
          "base_uri": "https://localhost:8080/",
          "height": 0
        },
        "id": "G9doI4CqGCE6",
        "outputId": "cad97187-c435-4056-bc2e-6764aa03153d"
      },
      "execution_count": 19,
      "outputs": [
        {
          "output_type": "stream",
          "name": "stdout",
          "text": [
            "Performing stepwise search to minimize aic\n",
            " ARIMA(2,0,2)(0,0,0)[0] intercept   : AIC=313999.568, Time=8.44 sec\n",
            " ARIMA(0,0,0)(0,0,0)[0] intercept   : AIC=314019.859, Time=1.15 sec\n",
            " ARIMA(1,0,0)(0,0,0)[0] intercept   : AIC=313993.856, Time=1.34 sec\n",
            " ARIMA(0,0,1)(0,0,0)[0] intercept   : AIC=313994.401, Time=2.88 sec\n",
            " ARIMA(0,0,0)(0,0,0)[0]             : AIC=314560.038, Time=0.92 sec\n",
            " ARIMA(2,0,0)(0,0,0)[0] intercept   : AIC=313995.844, Time=2.04 sec\n",
            " ARIMA(1,0,1)(0,0,0)[0] intercept   : AIC=313995.853, Time=7.58 sec\n",
            " ARIMA(2,0,1)(0,0,0)[0] intercept   : AIC=313997.845, Time=12.64 sec\n",
            " ARIMA(1,0,0)(0,0,0)[0]             : AIC=314485.343, Time=0.32 sec\n",
            "\n",
            "Best model:  ARIMA(1,0,0)(0,0,0)[0] intercept\n",
            "Total fit time: 37.351 seconds\n"
          ]
        }
      ]
    },
    {
      "cell_type": "code",
      "source": [
        "df3 = pd.read_csv('/content/data_Precipitation.csv')\n",
        "df3['Date'] = pd.to_datetime(df3['Date'])\n",
        "\n",
        "#Splitting into train and test\n",
        "train1 = df3.loc[df3['Date'] <= '1999-12-31']\n",
        "test1 = df3.loc[df3['Date']>= '2000-01-01']\n"
      ],
      "metadata": {
        "id": "SXDCSTfQGNCg"
      },
      "execution_count": 20,
      "outputs": []
    },
    {
      "cell_type": "code",
      "source": [
        "from statsmodels.tsa.arima.model import ARIMA\n",
        "model_boxcox = ARIMA(train1['Precipitation'], order = (1,0,0))\n",
        "model_boxcox = model_boxcox.fit()\n",
        "model_boxcox.summary()"
      ],
      "metadata": {
        "colab": {
          "base_uri": "https://localhost:8080/",
          "height": 424
        },
        "id": "cPpqAYqVGbpK",
        "outputId": "5615f256-3405-4dca-c4b7-1fc61be00637"
      },
      "execution_count": 21,
      "outputs": [
        {
          "output_type": "execute_result",
          "data": {
            "text/plain": [
              "<class 'statsmodels.iolib.summary.Summary'>\n",
              "\"\"\"\n",
              "                               SARIMAX Results                                \n",
              "==============================================================================\n",
              "Dep. Variable:          Precipitation   No. Observations:                18250\n",
              "Model:                 ARIMA(1, 0, 0)   Log Likelihood              -64204.834\n",
              "Date:                Tue, 29 Mar 2022   AIC                         128415.668\n",
              "Time:                        00:17:08   BIC                         128439.104\n",
              "Sample:                             0   HQIC                        128423.370\n",
              "                              - 18250                                         \n",
              "Covariance Type:                  opg                                         \n",
              "==============================================================================\n",
              "                 coef    std err          z      P>|z|      [0.025      0.975]\n",
              "------------------------------------------------------------------------------\n",
              "const          3.6417      0.088     41.221      0.000       3.469       3.815\n",
              "ar.L1          0.1217      0.005     23.079      0.000       0.111       0.132\n",
              "sigma2        66.5739      0.170    392.136      0.000      66.241      66.907\n",
              "===================================================================================\n",
              "Ljung-Box (L1) (Q):                   0.79   Jarque-Bera (JB):           2625661.25\n",
              "Prob(Q):                              0.37   Prob(JB):                         0.00\n",
              "Heteroskedasticity (H):               1.12   Skew:                             4.84\n",
              "Prob(H) (two-sided):                  0.00   Kurtosis:                        60.96\n",
              "===================================================================================\n",
              "\n",
              "Warnings:\n",
              "[1] Covariance matrix calculated using the outer product of gradients (complex-step).\n",
              "\"\"\""
            ],
            "text/html": [
              "<table class=\"simpletable\">\n",
              "<caption>SARIMAX Results</caption>\n",
              "<tr>\n",
              "  <th>Dep. Variable:</th>     <td>Precipitation</td>  <th>  No. Observations:  </th>    <td>18250</td>  \n",
              "</tr>\n",
              "<tr>\n",
              "  <th>Model:</th>            <td>ARIMA(1, 0, 0)</td>  <th>  Log Likelihood     </th> <td>-64204.834</td>\n",
              "</tr>\n",
              "<tr>\n",
              "  <th>Date:</th>            <td>Tue, 29 Mar 2022</td> <th>  AIC                </th> <td>128415.668</td>\n",
              "</tr>\n",
              "<tr>\n",
              "  <th>Time:</th>                <td>00:17:08</td>     <th>  BIC                </th> <td>128439.104</td>\n",
              "</tr>\n",
              "<tr>\n",
              "  <th>Sample:</th>                  <td>0</td>        <th>  HQIC               </th> <td>128423.370</td>\n",
              "</tr>\n",
              "<tr>\n",
              "  <th></th>                     <td> - 18250</td>     <th>                     </th>      <td> </td>    \n",
              "</tr>\n",
              "<tr>\n",
              "  <th>Covariance Type:</th>        <td>opg</td>       <th>                     </th>      <td> </td>    \n",
              "</tr>\n",
              "</table>\n",
              "<table class=\"simpletable\">\n",
              "<tr>\n",
              "     <td></td>       <th>coef</th>     <th>std err</th>      <th>z</th>      <th>P>|z|</th>  <th>[0.025</th>    <th>0.975]</th>  \n",
              "</tr>\n",
              "<tr>\n",
              "  <th>const</th>  <td>    3.6417</td> <td>    0.088</td> <td>   41.221</td> <td> 0.000</td> <td>    3.469</td> <td>    3.815</td>\n",
              "</tr>\n",
              "<tr>\n",
              "  <th>ar.L1</th>  <td>    0.1217</td> <td>    0.005</td> <td>   23.079</td> <td> 0.000</td> <td>    0.111</td> <td>    0.132</td>\n",
              "</tr>\n",
              "<tr>\n",
              "  <th>sigma2</th> <td>   66.5739</td> <td>    0.170</td> <td>  392.136</td> <td> 0.000</td> <td>   66.241</td> <td>   66.907</td>\n",
              "</tr>\n",
              "</table>\n",
              "<table class=\"simpletable\">\n",
              "<tr>\n",
              "  <th>Ljung-Box (L1) (Q):</th>     <td>0.79</td> <th>  Jarque-Bera (JB):  </th> <td>2625661.25</td>\n",
              "</tr>\n",
              "<tr>\n",
              "  <th>Prob(Q):</th>                <td>0.37</td> <th>  Prob(JB):          </th>    <td>0.00</td>   \n",
              "</tr>\n",
              "<tr>\n",
              "  <th>Heteroskedasticity (H):</th> <td>1.12</td> <th>  Skew:              </th>    <td>4.84</td>   \n",
              "</tr>\n",
              "<tr>\n",
              "  <th>Prob(H) (two-sided):</th>    <td>0.00</td> <th>  Kurtosis:          </th>    <td>60.96</td>  \n",
              "</tr>\n",
              "</table><br/><br/>Warnings:<br/>[1] Covariance matrix calculated using the outer product of gradients (complex-step)."
            ]
          },
          "metadata": {},
          "execution_count": 21
        }
      ]
    },
    {
      "cell_type": "code",
      "source": [
        "#testing part\n",
        "import datetime\n",
        "start = len(train1)\n",
        "\n",
        "end = len(train1)+len(test1)-1\n",
        "test1['forecast']= model_boxcox.predict( start=start, end=end, dynamic=False)"
      ],
      "metadata": {
        "id": "ikGGJQV3Gbt9"
      },
      "execution_count": 22,
      "outputs": []
    },
    {
      "cell_type": "code",
      "source": [
        "test1.head()"
      ],
      "metadata": {
        "colab": {
          "base_uri": "https://localhost:8080/",
          "height": 206
        },
        "id": "RDNPOlhAGbwI",
        "outputId": "931a1018-30ed-43be-c527-b43395f2a57f"
      },
      "execution_count": 23,
      "outputs": [
        {
          "output_type": "execute_result",
          "data": {
            "text/plain": [
              "            Date  Precipitation  forecast\n",
              "18250 2000-01-01       0.000046  3.198375\n",
              "18251 2000-01-02       5.651877  3.587729\n",
              "18252 2000-01-03       7.189747  3.635129\n",
              "18253 2000-01-04       0.971326  3.640900\n",
              "18254 2000-01-05      50.309398  3.641602"
            ],
            "text/html": [
              "\n",
              "  <div id=\"df-3533a85d-b821-44a6-973c-7f321de856e2\">\n",
              "    <div class=\"colab-df-container\">\n",
              "      <div>\n",
              "<style scoped>\n",
              "    .dataframe tbody tr th:only-of-type {\n",
              "        vertical-align: middle;\n",
              "    }\n",
              "\n",
              "    .dataframe tbody tr th {\n",
              "        vertical-align: top;\n",
              "    }\n",
              "\n",
              "    .dataframe thead th {\n",
              "        text-align: right;\n",
              "    }\n",
              "</style>\n",
              "<table border=\"1\" class=\"dataframe\">\n",
              "  <thead>\n",
              "    <tr style=\"text-align: right;\">\n",
              "      <th></th>\n",
              "      <th>Date</th>\n",
              "      <th>Precipitation</th>\n",
              "      <th>forecast</th>\n",
              "    </tr>\n",
              "  </thead>\n",
              "  <tbody>\n",
              "    <tr>\n",
              "      <th>18250</th>\n",
              "      <td>2000-01-01</td>\n",
              "      <td>0.000046</td>\n",
              "      <td>3.198375</td>\n",
              "    </tr>\n",
              "    <tr>\n",
              "      <th>18251</th>\n",
              "      <td>2000-01-02</td>\n",
              "      <td>5.651877</td>\n",
              "      <td>3.587729</td>\n",
              "    </tr>\n",
              "    <tr>\n",
              "      <th>18252</th>\n",
              "      <td>2000-01-03</td>\n",
              "      <td>7.189747</td>\n",
              "      <td>3.635129</td>\n",
              "    </tr>\n",
              "    <tr>\n",
              "      <th>18253</th>\n",
              "      <td>2000-01-04</td>\n",
              "      <td>0.971326</td>\n",
              "      <td>3.640900</td>\n",
              "    </tr>\n",
              "    <tr>\n",
              "      <th>18254</th>\n",
              "      <td>2000-01-05</td>\n",
              "      <td>50.309398</td>\n",
              "      <td>3.641602</td>\n",
              "    </tr>\n",
              "  </tbody>\n",
              "</table>\n",
              "</div>\n",
              "      <button class=\"colab-df-convert\" onclick=\"convertToInteractive('df-3533a85d-b821-44a6-973c-7f321de856e2')\"\n",
              "              title=\"Convert this dataframe to an interactive table.\"\n",
              "              style=\"display:none;\">\n",
              "        \n",
              "  <svg xmlns=\"http://www.w3.org/2000/svg\" height=\"24px\"viewBox=\"0 0 24 24\"\n",
              "       width=\"24px\">\n",
              "    <path d=\"M0 0h24v24H0V0z\" fill=\"none\"/>\n",
              "    <path d=\"M18.56 5.44l.94 2.06.94-2.06 2.06-.94-2.06-.94-.94-2.06-.94 2.06-2.06.94zm-11 1L8.5 8.5l.94-2.06 2.06-.94-2.06-.94L8.5 2.5l-.94 2.06-2.06.94zm10 10l.94 2.06.94-2.06 2.06-.94-2.06-.94-.94-2.06-.94 2.06-2.06.94z\"/><path d=\"M17.41 7.96l-1.37-1.37c-.4-.4-.92-.59-1.43-.59-.52 0-1.04.2-1.43.59L10.3 9.45l-7.72 7.72c-.78.78-.78 2.05 0 2.83L4 21.41c.39.39.9.59 1.41.59.51 0 1.02-.2 1.41-.59l7.78-7.78 2.81-2.81c.8-.78.8-2.07 0-2.86zM5.41 20L4 18.59l7.72-7.72 1.47 1.35L5.41 20z\"/>\n",
              "  </svg>\n",
              "      </button>\n",
              "      \n",
              "  <style>\n",
              "    .colab-df-container {\n",
              "      display:flex;\n",
              "      flex-wrap:wrap;\n",
              "      gap: 12px;\n",
              "    }\n",
              "\n",
              "    .colab-df-convert {\n",
              "      background-color: #E8F0FE;\n",
              "      border: none;\n",
              "      border-radius: 50%;\n",
              "      cursor: pointer;\n",
              "      display: none;\n",
              "      fill: #1967D2;\n",
              "      height: 32px;\n",
              "      padding: 0 0 0 0;\n",
              "      width: 32px;\n",
              "    }\n",
              "\n",
              "    .colab-df-convert:hover {\n",
              "      background-color: #E2EBFA;\n",
              "      box-shadow: 0px 1px 2px rgba(60, 64, 67, 0.3), 0px 1px 3px 1px rgba(60, 64, 67, 0.15);\n",
              "      fill: #174EA6;\n",
              "    }\n",
              "\n",
              "    [theme=dark] .colab-df-convert {\n",
              "      background-color: #3B4455;\n",
              "      fill: #D2E3FC;\n",
              "    }\n",
              "\n",
              "    [theme=dark] .colab-df-convert:hover {\n",
              "      background-color: #434B5C;\n",
              "      box-shadow: 0px 1px 3px 1px rgba(0, 0, 0, 0.15);\n",
              "      filter: drop-shadow(0px 1px 2px rgba(0, 0, 0, 0.3));\n",
              "      fill: #FFFFFF;\n",
              "    }\n",
              "  </style>\n",
              "\n",
              "      <script>\n",
              "        const buttonEl =\n",
              "          document.querySelector('#df-3533a85d-b821-44a6-973c-7f321de856e2 button.colab-df-convert');\n",
              "        buttonEl.style.display =\n",
              "          google.colab.kernel.accessAllowed ? 'block' : 'none';\n",
              "\n",
              "        async function convertToInteractive(key) {\n",
              "          const element = document.querySelector('#df-3533a85d-b821-44a6-973c-7f321de856e2');\n",
              "          const dataTable =\n",
              "            await google.colab.kernel.invokeFunction('convertToInteractive',\n",
              "                                                     [key], {});\n",
              "          if (!dataTable) return;\n",
              "\n",
              "          const docLinkHtml = 'Like what you see? Visit the ' +\n",
              "            '<a target=\"_blank\" href=https://colab.research.google.com/notebooks/data_table.ipynb>data table notebook</a>'\n",
              "            + ' to learn more about interactive tables.';\n",
              "          element.innerHTML = '';\n",
              "          dataTable['output_type'] = 'display_data';\n",
              "          await google.colab.output.renderOutput(dataTable, element);\n",
              "          const docLink = document.createElement('div');\n",
              "          docLink.innerHTML = docLinkHtml;\n",
              "          element.appendChild(docLink);\n",
              "        }\n",
              "      </script>\n",
              "    </div>\n",
              "  </div>\n",
              "  "
            ]
          },
          "metadata": {},
          "execution_count": 23
        }
      ]
    },
    {
      "cell_type": "code",
      "source": [
        "from sklearn.metrics import mean_squared_error\n",
        "\n",
        "print('MSE using the boxcox transform:',mean_squared_error(test1.Precipitation, test1.forecast))"
      ],
      "metadata": {
        "colab": {
          "base_uri": "https://localhost:8080/",
          "height": 0
        },
        "id": "8O55kc6JJmef",
        "outputId": "f1900401-99bb-4670-95cc-6a0fe276fa91"
      },
      "execution_count": 36,
      "outputs": [
        {
          "output_type": "stream",
          "name": "stdout",
          "text": [
            "MSE using the boxcox transform: 73.91905514465313\n"
          ]
        }
      ]
    },
    {
      "cell_type": "markdown",
      "source": [
        "#The boxcox transform hasn't made the MSE any better. Boxcox transforms do not always yield a better MSE. Probably a log transform could have worked better in our case."
      ],
      "metadata": {
        "id": "pImDuD2NJ6Zj"
      }
    },
    {
      "cell_type": "markdown",
      "source": [
        "#Question 5-\n",
        "Simulate Model variance with ARCH and GARCH for Time Series Forecasting. Consider a \n",
        "time series of random noise where the mean is zero and the variance starts at 0.0 and steadily \n",
        "increases."
      ],
      "metadata": {
        "id": "9ePpT2oA-5KL"
      }
    },
    {
      "cell_type": "code",
      "source": [
        "from random import gauss\n",
        "from random import seed\n",
        "import numpy as np\n",
        "import matplotlib.pyplot as plt\n",
        "from statsmodels.graphics.tsaplots import plot_acf\n",
        "\n",
        "#set seed\n",
        "seed(4)\n",
        "df = [gauss(0,i*0.01) for i in range (0, 100)]\n",
        "df_sq = [ x**2 for x in df]\n",
        "\n",
        "#plot the data\n",
        "plt.plot(df)\n",
        "plt.show()\n",
        "\n",
        "#plot acf\n",
        "plot_acf(np.asarray(df_sq))\n",
        "plt.show()"
      ],
      "metadata": {
        "colab": {
          "base_uri": "https://localhost:8080/",
          "height": 529
        },
        "id": "Wr8a7Ac8-4E4",
        "outputId": "bb418c36-9f92-4451-e205-93cedb4f81d8"
      },
      "execution_count": 26,
      "outputs": [
        {
          "output_type": "display_data",
          "data": {
            "text/plain": [
              "<Figure size 432x288 with 1 Axes>"
            ],
            "image/png": "[encoded data removed]"
          },
          "metadata": {
            "needs_background": "light"
          }
        },
        {
          "output_type": "display_data",
          "data": {
            "text/plain": [
              "<Figure size 432x288 with 1 Axes>"
            ],
            "image/png": "[encoded data removed]"
          },
          "metadata": {
            "needs_background": "light"
          }
        }
      ]
    },
    {
      "cell_type": "markdown",
      "source": [
        "significant positive correlatin till lag 15."
      ],
      "metadata": {
        "id": "HGHBN38e_GU_"
      }
    },
    {
      "cell_type": "code",
      "source": [
        "#train, test split\n",
        "n_test = 10\n",
        "train, test = df[:-n_test], df[-n_test:]"
      ],
      "metadata": {
        "id": "-LWzFPjU-4Hd"
      },
      "execution_count": 27,
      "outputs": []
    },
    {
      "cell_type": "code",
      "source": [
        "!pip install arch"
      ],
      "metadata": {
        "colab": {
          "base_uri": "https://localhost:8080/",
          "height": 0
        },
        "id": "QQteAdq5-4LO",
        "outputId": "409af8e2-407a-48ae-acbe-3fd1d41fc38d"
      },
      "execution_count": 28,
      "outputs": [
        {
          "output_type": "stream",
          "name": "stdout",
          "text": [
            "Collecting arch\n",
            "  Downloading arch-5.1.0-cp37-cp37m-manylinux_2_17_x86_64.manylinux2014_x86_64.whl (902 kB)\n",
            "\u001b[K     |████████████████████████████████| 902 kB 5.3 MB/s \n",
            "\u001b[?25hRequirement already satisfied: scipy>=1.3 in /usr/local/lib/python3.7/dist-packages (from arch) (1.4.1)\n",
            "Requirement already satisfied: statsmodels>=0.11 in /usr/local/lib/python3.7/dist-packages (from arch) (0.13.2)\n",
            "Requirement already satisfied: numpy>=1.17 in /usr/local/lib/python3.7/dist-packages (from arch) (1.21.5)\n",
            "Collecting property-cached>=1.6.4\n",
            "  Downloading property_cached-1.6.4-py2.py3-none-any.whl (7.8 kB)\n",
            "Requirement already satisfied: pandas>=1.0 in /usr/local/lib/python3.7/dist-packages (from arch) (1.3.5)\n",
            "Requirement already satisfied: pytz>=2017.3 in /usr/local/lib/python3.7/dist-packages (from pandas>=1.0->arch) (2018.9)\n",
            "Requirement already satisfied: python-dateutil>=2.7.3 in /usr/local/lib/python3.7/dist-packages (from pandas>=1.0->arch) (2.8.2)\n",
            "Requirement already satisfied: six>=1.5 in /usr/local/lib/python3.7/dist-packages (from python-dateutil>=2.7.3->pandas>=1.0->arch) (1.15.0)\n",
            "Requirement already satisfied: patsy>=0.5.2 in /usr/local/lib/python3.7/dist-packages (from statsmodels>=0.11->arch) (0.5.2)\n",
            "Requirement already satisfied: packaging>=21.3 in /usr/local/lib/python3.7/dist-packages (from statsmodels>=0.11->arch) (21.3)\n",
            "Requirement already satisfied: pyparsing!=3.0.5,>=2.0.2 in /usr/local/lib/python3.7/dist-packages (from packaging>=21.3->statsmodels>=0.11->arch) (3.0.7)\n",
            "Installing collected packages: property-cached, arch\n",
            "Successfully installed arch-5.1.0 property-cached-1.6.4\n"
          ]
        }
      ]
    },
    {
      "cell_type": "code",
      "source": [
        "import arch\n",
        "from arch import arch_model\n",
        "model = arch_model(train, mean='Zero', vol ='ARCH', p = 15)"
      ],
      "metadata": {
        "id": "fNdvsXaa-4Ot"
      },
      "execution_count": 29,
      "outputs": []
    },
    {
      "cell_type": "code",
      "source": [
        "modelfit = model.fit()"
      ],
      "metadata": {
        "colab": {
          "base_uri": "https://localhost:8080/",
          "height": 0
        },
        "id": "XWoI3s1e-4RV",
        "outputId": "fc673e85-ef28-43ea-a697-48d34ba037db"
      },
      "execution_count": 30,
      "outputs": [
        {
          "output_type": "stream",
          "name": "stdout",
          "text": [
            "Iteration:      1,   Func. Count:     18,   Neg. LLF: 41.504522451939415\n",
            "Iteration:      2,   Func. Count:     37,   Neg. LLF: 39.84160048057239\n",
            "Iteration:      3,   Func. Count:     56,   Neg. LLF: 38.86152368289243\n",
            "Iteration:      4,   Func. Count:     75,   Neg. LLF: 38.168837835452294\n",
            "Iteration:      5,   Func. Count:     94,   Neg. LLF: 37.359456060716816\n",
            "Iteration:      6,   Func. Count:    113,   Neg. LLF: 36.916153438658235\n",
            "Iteration:      7,   Func. Count:    132,   Neg. LLF: 36.62927642773087\n",
            "Iteration:      8,   Func. Count:    150,   Neg. LLF: 35.61568157968252\n",
            "Iteration:      9,   Func. Count:    169,   Neg. LLF: 35.38236084253256\n",
            "Iteration:     10,   Func. Count:    188,   Neg. LLF: 34.976965684955985\n",
            "Iteration:     11,   Func. Count:    207,   Neg. LLF: 34.77947643918447\n",
            "Iteration:     12,   Func. Count:    226,   Neg. LLF: 34.636329032030794\n",
            "Iteration:     13,   Func. Count:    245,   Neg. LLF: 34.471421979520954\n",
            "Iteration:     14,   Func. Count:    264,   Neg. LLF: 34.42026461625432\n",
            "Iteration:     15,   Func. Count:    283,   Neg. LLF: 34.392186193914\n",
            "Iteration:     16,   Func. Count:    302,   Neg. LLF: 34.36862004978023\n",
            "Iteration:     17,   Func. Count:    320,   Neg. LLF: 34.364987911329905\n",
            "Iteration:     18,   Func. Count:    338,   Neg. LLF: 34.36367196211154\n",
            "Iteration:     19,   Func. Count:    356,   Neg. LLF: 34.36340962881595\n",
            "Iteration:     20,   Func. Count:    374,   Neg. LLF: 34.363378087592224\n",
            "Iteration:     21,   Func. Count:    392,   Neg. LLF: 34.363374904072806\n",
            "Optimization terminated successfully.    (Exit mode 0)\n",
            "            Current function value: 34.36337484867552\n",
            "            Iterations: 21\n",
            "            Function evaluations: 392\n",
            "            Gradient evaluations: 21\n"
          ]
        }
      ]
    },
    {
      "cell_type": "code",
      "source": [
        "#making predictions\n",
        "pred = modelfit.forecast(horizon= n_test)"
      ],
      "metadata": {
        "id": "KD4ZtaDz_XTz"
      },
      "execution_count": 31,
      "outputs": []
    },
    {
      "cell_type": "markdown",
      "source": [
        "#Plot using ARCH model"
      ],
      "metadata": {
        "id": "F3ba83BKLgvz"
      }
    },
    {
      "cell_type": "code",
      "source": [
        "#plotting variance and predicted variance\n",
        "\n",
        "var = [i*0.01 for i in range(0,100)]\n",
        "plt.plot(var[-n_test:])\n",
        "#plt.show()\n",
        "plt.plot(pred.variance.values[-1, :])\n",
        "plt.show()"
      ],
      "metadata": {
        "colab": {
          "base_uri": "https://localhost:8080/",
          "height": 265
        },
        "id": "nvkd72DvAZLU",
        "outputId": "bc0a2299-81c8-479b-a54c-70b2dc93fc3e"
      },
      "execution_count": 32,
      "outputs": [
        {
          "output_type": "display_data",
          "data": {
            "text/plain": [
              "<Figure size 432x288 with 1 Axes>"
            ],
            "image/png": "[encoded data removed]"
          },
          "metadata": {
            "needs_background": "light"
          }
        }
      ]
    },
    {
      "cell_type": "code",
      "source": [
        "#For the GARCH model\n",
        "garch_model = arch_model(train, mean = 'Zero', vol = 'GARCH', p = 15)\n",
        "garchfit = garch_model.fit()"
      ],
      "metadata": {
        "colab": {
          "base_uri": "https://localhost:8080/",
          "height": 0
        },
        "id": "dqJL9CD6AZl5",
        "outputId": "69dfc906-faa3-4a83-b4ba-030fddd49f97"
      },
      "execution_count": 33,
      "outputs": [
        {
          "output_type": "stream",
          "name": "stdout",
          "text": [
            "Iteration:      1,   Func. Count:     19,   Neg. LLF: 43.295844959877854\n",
            "Iteration:      2,   Func. Count:     44,   Neg. LLF: 43.243747831930406\n",
            "Iteration:      3,   Func. Count:     64,   Neg. LLF: 38.99409977757669\n",
            "Iteration:      4,   Func. Count:     84,   Neg. LLF: 38.219348236710395\n",
            "Iteration:      5,   Func. Count:    104,   Neg. LLF: 37.77063814140541\n",
            "Iteration:      6,   Func. Count:    124,   Neg. LLF: 36.85448822464735\n",
            "Iteration:      7,   Func. Count:    144,   Neg. LLF: 36.28818440487556\n",
            "Iteration:      8,   Func. Count:    164,   Neg. LLF: 36.018309596460604\n",
            "Iteration:      9,   Func. Count:    184,   Neg. LLF: 35.83299193687124\n",
            "Iteration:     10,   Func. Count:    204,   Neg. LLF: 35.72128260333963\n",
            "Iteration:     11,   Func. Count:    224,   Neg. LLF: 35.24655924885105\n",
            "Iteration:     12,   Func. Count:    244,   Neg. LLF: 35.0392646130409\n",
            "Iteration:     13,   Func. Count:    264,   Neg. LLF: 34.84989174046595\n",
            "Iteration:     14,   Func. Count:    284,   Neg. LLF: 34.713980500093484\n",
            "Iteration:     15,   Func. Count:    303,   Neg. LLF: 34.442002549444915\n",
            "Iteration:     16,   Func. Count:    322,   Neg. LLF: 34.37225246057246\n",
            "Iteration:     17,   Func. Count:    342,   Neg. LLF: 34.36782095082328\n",
            "Iteration:     18,   Func. Count:    361,   Neg. LLF: 34.36464767933175\n",
            "Iteration:     19,   Func. Count:    380,   Neg. LLF: 34.36346035724202\n",
            "Iteration:     20,   Func. Count:    399,   Neg. LLF: 34.36338081608357\n",
            "Iteration:     21,   Func. Count:    418,   Neg. LLF: 34.36337487879584\n",
            "Optimization terminated successfully.    (Exit mode 0)\n",
            "            Current function value: 34.36337490653557\n",
            "            Iterations: 21\n",
            "            Function evaluations: 418\n",
            "            Gradient evaluations: 21\n"
          ]
        }
      ]
    },
    {
      "cell_type": "code",
      "source": [
        "pred1 = garchfit.forecast(horizon = n_test)"
      ],
      "metadata": {
        "id": "hvxRQBIoAZom"
      },
      "execution_count": 34,
      "outputs": []
    },
    {
      "cell_type": "markdown",
      "source": [
        "#Plot using GARCH model"
      ],
      "metadata": {
        "id": "ksge5eF0LlGw"
      }
    },
    {
      "cell_type": "code",
      "source": [
        "#plotting variance and predicted variance\n",
        "\n",
        "var1 = [i*0.01 for i in range(0,100)]\n",
        "plt.plot(var1[-n_test:])\n",
        "#plt.show()\n",
        "plt.plot(pred1.variance.values[-1, :])\n",
        "plt.show()"
      ],
      "metadata": {
        "colab": {
          "base_uri": "https://localhost:8080/",
          "height": 265
        },
        "id": "H5pPkQlaAZqc",
        "outputId": "0f304311-da88-4ed5-9bd9-d0b8280c90dc"
      },
      "execution_count": 35,
      "outputs": [
        {
          "output_type": "display_data",
          "data": {
            "text/plain": [
              "<Figure size 432x288 with 1 Axes>"
            ],
            "image/png": "[encoded data removed]"
          },
          "metadata": {
            "needs_background": "light"
          }
        }
      ]
    },
    {
      "cell_type": "code",
      "source": [
        "!jupyter nbconvert --to pdf /content/CIVE_Homework6_Q4&5.ipynb"
      ],
      "metadata": {
        "colab": {
          "base_uri": "https://localhost:8080/",
          "height": 0
        },
        "id": "lLRr6YjSLZEr",
        "outputId": "dd691c02-9bc1-4b53-ea40-1f0541ac0e0d"
      },
      "execution_count": 38,
      "outputs": [
        {
          "output_type": "stream",
          "name": "stdout",
          "text": [
            "/bin/bash: 5.ipynb: command not found\n",
            "[NbConvertApp] WARNING | pattern '/content/CIVE_Homework6_Q4' matched no files\n",
            "This application is used to convert notebook files (*.ipynb)\n",
            "        to various other formats.\n",
            "\n",
            "        WARNING: THE COMMANDLINE INTERFACE MAY CHANGE IN FUTURE RELEASES.\n",
            "\n",
            "Options\n",
            "=======\n",
            "The options below are convenience aliases to configurable class-options,\n",
            "as listed in the \"Equivalent to\" description-line of the aliases.\n",
            "To see all configurable class-options for some <cmd>, use:\n",
            "    <cmd> --help-all\n",
            "\n",
            "--debug\n",
            "    set log level to logging.DEBUG (maximize logging output)\n",
            "    Equivalent to: [--Application.log_level=10]\n",
            "--show-config\n",
            "    Show the application's configuration (human-readable format)\n",
            "    Equivalent to: [--Application.show_config=True]\n",
            "--show-config-json\n",
            "    Show the application's configuration (json format)\n",
            "    Equivalent to: [--Application.show_config_json=True]\n",
            "--generate-config\n",
            "    generate default config file\n",
            "    Equivalent to: [--JupyterApp.generate_config=True]\n",
            "-y\n",
            "    Answer yes to any questions instead of prompting.\n",
            "    Equivalent to: [--JupyterApp.answer_yes=True]\n",
            "--execute\n",
            "    Execute the notebook prior to export.\n",
            "    Equivalent to: [--ExecutePreprocessor.enabled=True]\n",
            "--allow-errors\n",
            "    Continue notebook execution even if one of the cells throws an error and include the error message in the cell output (the default behaviour is to abort conversion). This flag is only relevant if '--execute' was specified, too.\n",
            "    Equivalent to: [--ExecutePreprocessor.allow_errors=True]\n",
            "--stdin\n",
            "    read a single notebook file from stdin. Write the resulting notebook with default basename 'notebook.*'\n",
            "    Equivalent to: [--NbConvertApp.from_stdin=True]\n",
            "--stdout\n",
            "    Write notebook output to stdout instead of files.\n",
            "    Equivalent to: [--NbConvertApp.writer_class=StdoutWriter]\n",
            "--inplace\n",
            "    Run nbconvert in place, overwriting the existing notebook (only \n",
            "            relevant when converting to notebook format)\n",
            "    Equivalent to: [--NbConvertApp.use_output_suffix=False --NbConvertApp.export_format=notebook --FilesWriter.build_directory=]\n",
            "--clear-output\n",
            "    Clear output of current file and save in place, \n",
            "            overwriting the existing notebook.\n",
            "    Equivalent to: [--NbConvertApp.use_output_suffix=False --NbConvertApp.export_format=notebook --FilesWriter.build_directory= --ClearOutputPreprocessor.enabled=True]\n",
            "--no-prompt\n",
            "    Exclude input and output prompts from converted document.\n",
            "    Equivalent to: [--TemplateExporter.exclude_input_prompt=True --TemplateExporter.exclude_output_prompt=True]\n",
            "--no-input\n",
            "    Exclude input cells and output prompts from converted document. \n",
            "            This mode is ideal for generating code-free reports.\n",
            "    Equivalent to: [--TemplateExporter.exclude_output_prompt=True --TemplateExporter.exclude_input=True]\n",
            "--log-level=<Enum>\n",
            "    Set the log level by value or name.\n",
            "    Choices: any of [0, 10, 20, 30, 40, 50, 'DEBUG', 'INFO', 'WARN', 'ERROR', 'CRITICAL']\n",
            "    Default: 30\n",
            "    Equivalent to: [--Application.log_level]\n",
            "--config=<Unicode>\n",
            "    Full path of a config file.\n",
            "    Default: ''\n",
            "    Equivalent to: [--JupyterApp.config_file]\n",
            "--to=<Unicode>\n",
            "    The export format to be used, either one of the built-in formats\n",
            "            ['asciidoc', 'custom', 'html', 'latex', 'markdown', 'notebook', 'pdf', 'python', 'rst', 'script', 'slides']\n",
            "            or a dotted object name that represents the import path for an\n",
            "            `Exporter` class\n",
            "    Default: 'html'\n",
            "    Equivalent to: [--NbConvertApp.export_format]\n",
            "--template=<Unicode>\n",
            "    Name of the template file to use\n",
            "    Default: ''\n",
            "    Equivalent to: [--TemplateExporter.template_file]\n",
            "--writer=<DottedObjectName>\n",
            "    Writer class used to write the \n",
            "                                        results of the conversion\n",
            "    Default: 'FilesWriter'\n",
            "    Equivalent to: [--NbConvertApp.writer_class]\n",
            "--post=<DottedOrNone>\n",
            "    PostProcessor class used to write the\n",
            "                                        results of the conversion\n",
            "    Default: ''\n",
            "    Equivalent to: [--NbConvertApp.postprocessor_class]\n",
            "--output=<Unicode>\n",
            "    overwrite base name use for output files.\n",
            "                can only be used when converting one notebook at a time.\n",
            "    Default: ''\n",
            "    Equivalent to: [--NbConvertApp.output_base]\n",
            "--output-dir=<Unicode>\n",
            "    Directory to write output(s) to. Defaults\n",
            "                                  to output to the directory of each notebook. To recover\n",
            "                                  previous default behaviour (outputting to the current \n",
            "                                  working directory) use . as the flag value.\n",
            "    Default: ''\n",
            "    Equivalent to: [--FilesWriter.build_directory]\n",
            "--reveal-prefix=<Unicode>\n",
            "    The URL prefix for reveal.js (version 3.x).\n",
            "            This defaults to the reveal CDN, but can be any url pointing to a copy \n",
            "            of reveal.js. \n",
            "            For speaker notes to work, this must be a relative path to a local \n",
            "            copy of reveal.js: e.g., \"reveal.js\".\n",
            "            If a relative path is given, it must be a subdirectory of the\n",
            "            current directory (from which the server is run).\n",
            "            See the usage documentation\n",
            "            (https://nbconvert.readthedocs.io/en/latest/usage.html#reveal-js-html-slideshow)\n",
            "            for more details.\n",
            "    Default: ''\n",
            "    Equivalent to: [--SlidesExporter.reveal_url_prefix]\n",
            "--nbformat=<Enum>\n",
            "    The nbformat version to write.\n",
            "            Use this to downgrade notebooks.\n",
            "    Choices: any of [1, 2, 3, 4]\n",
            "    Default: 4\n",
            "    Equivalent to: [--NotebookExporter.nbformat_version]\n",
            "\n",
            "Examples\n",
            "--------\n",
            "\n",
            "    The simplest way to use nbconvert is\n",
            "\n",
            "            > jupyter nbconvert mynotebook.ipynb\n",
            "\n",
            "            which will convert mynotebook.ipynb to the default format (probably HTML).\n",
            "\n",
            "            You can specify the export format with `--to`.\n",
            "            Options include ['asciidoc', 'custom', 'html', 'latex', 'markdown', 'notebook', 'pdf', 'python', 'rst', 'script', 'slides'].\n",
            "\n",
            "            > jupyter nbconvert --to latex mynotebook.ipynb\n",
            "\n",
            "            Both HTML and LaTeX support multiple output templates. LaTeX includes\n",
            "            'base', 'article' and 'report'.  HTML includes 'basic' and 'full'. You\n",
            "            can specify the flavor of the format used.\n",
            "\n",
            "            > jupyter nbconvert --to html --template basic mynotebook.ipynb\n",
            "\n",
            "            You can also pipe the output to stdout, rather than a file\n",
            "\n",
            "            > jupyter nbconvert mynotebook.ipynb --stdout\n",
            "\n",
            "            PDF is generated via latex\n",
            "\n",
            "            > jupyter nbconvert mynotebook.ipynb --to pdf\n",
            "\n",
            "            You can get (and serve) a Reveal.js-powered slideshow\n",
            "\n",
            "            > jupyter nbconvert myslides.ipynb --to slides --post serve\n",
            "\n",
            "            Multiple notebooks can be given at the command line in a couple of \n",
            "            different ways:\n",
            "\n",
            "            > jupyter nbconvert notebook*.ipynb\n",
            "            > jupyter nbconvert notebook1.ipynb notebook2.ipynb\n",
            "\n",
            "            or you can specify the notebooks list in a config file, containing::\n",
            "\n",
            "                c.NbConvertApp.notebooks = [\"my_notebook.ipynb\"]\n",
            "\n",
            "            > jupyter nbconvert --config mycfg.py\n",
            "\n",
            "To see all available configurables, use `--help-all`.\n",
            "\n"
          ]
        }
      ]
    }
  ]
}